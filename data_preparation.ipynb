{
 "cells": [
  {
   "cell_type": "code",
   "execution_count": 1,
   "metadata": {},
   "outputs": [
    {
     "name": "stderr",
     "output_type": "stream",
     "text": [
      "/usr/local/lib/python3.6/site-packages/h5py/__init__.py:36: FutureWarning: Conversion of the second argument of issubdtype from `float` to `np.floating` is deprecated. In future, it will be treated as `np.float64 == np.dtype(float).type`.\n",
      "  from ._conv import register_converters as _register_converters\n"
     ]
    }
   ],
   "source": [
    "import pandas as pd\n",
    "import numpy as np\n",
    "import matplotlib.pyplot as plt\n",
    "import tensorflow as tf\n",
    "import os\n",
    "os.environ[\"CUDA_VISIBLE_DEVICES\"]=\"0\" #for training on gpu"
   ]
  },
  {
   "cell_type": "code",
   "execution_count": 2,
   "metadata": {},
   "outputs": [],
   "source": [
    "df = pd.read_csv('./all/fer2013/fer2013.csv', dtype={'emotion':np.int32, 'pixels':str, 'Usage':str})"
   ]
  },
  {
   "cell_type": "code",
   "execution_count": 3,
   "metadata": {},
   "outputs": [
    {
     "data": {
      "text/html": [
       "<div>\n",
       "<style scoped>\n",
       "    .dataframe tbody tr th:only-of-type {\n",
       "        vertical-align: middle;\n",
       "    }\n",
       "\n",
       "    .dataframe tbody tr th {\n",
       "        vertical-align: top;\n",
       "    }\n",
       "\n",
       "    .dataframe thead th {\n",
       "        text-align: right;\n",
       "    }\n",
       "</style>\n",
       "<table border=\"1\" class=\"dataframe\">\n",
       "  <thead>\n",
       "    <tr style=\"text-align: right;\">\n",
       "      <th></th>\n",
       "      <th>emotion</th>\n",
       "      <th>pixels</th>\n",
       "      <th>Usage</th>\n",
       "    </tr>\n",
       "  </thead>\n",
       "  <tbody>\n",
       "    <tr>\n",
       "      <th>0</th>\n",
       "      <td>0</td>\n",
       "      <td>70 80 82 72 58 58 60 63 54 58 60 48 89 115 121...</td>\n",
       "      <td>Training</td>\n",
       "    </tr>\n",
       "    <tr>\n",
       "      <th>1</th>\n",
       "      <td>0</td>\n",
       "      <td>151 150 147 155 148 133 111 140 170 174 182 15...</td>\n",
       "      <td>Training</td>\n",
       "    </tr>\n",
       "    <tr>\n",
       "      <th>2</th>\n",
       "      <td>2</td>\n",
       "      <td>231 212 156 164 174 138 161 173 182 200 106 38...</td>\n",
       "      <td>Training</td>\n",
       "    </tr>\n",
       "    <tr>\n",
       "      <th>3</th>\n",
       "      <td>4</td>\n",
       "      <td>24 32 36 30 32 23 19 20 30 41 21 22 32 34 21 1...</td>\n",
       "      <td>Training</td>\n",
       "    </tr>\n",
       "    <tr>\n",
       "      <th>4</th>\n",
       "      <td>6</td>\n",
       "      <td>4 0 0 0 0 0 0 0 0 0 0 0 3 15 23 28 48 50 58 84...</td>\n",
       "      <td>Training</td>\n",
       "    </tr>\n",
       "  </tbody>\n",
       "</table>\n",
       "</div>"
      ],
      "text/plain": [
       "   emotion                                             pixels     Usage\n",
       "0        0  70 80 82 72 58 58 60 63 54 58 60 48 89 115 121...  Training\n",
       "1        0  151 150 147 155 148 133 111 140 170 174 182 15...  Training\n",
       "2        2  231 212 156 164 174 138 161 173 182 200 106 38...  Training\n",
       "3        4  24 32 36 30 32 23 19 20 30 41 21 22 32 34 21 1...  Training\n",
       "4        6  4 0 0 0 0 0 0 0 0 0 0 0 3 15 23 28 48 50 58 84...  Training"
      ]
     },
     "execution_count": 3,
     "metadata": {},
     "output_type": "execute_result"
    }
   ],
   "source": [
    "df.head()"
   ]
  },
  {
   "cell_type": "code",
   "execution_count": 4,
   "metadata": {},
   "outputs": [],
   "source": [
    "df['pixels'] = df['pixels'].apply(lambda x: np.fromstring(x,sep=' '))"
   ]
  },
  {
   "cell_type": "code",
   "execution_count": 5,
   "metadata": {},
   "outputs": [],
   "source": [
    "train = df.loc[df['Usage'] == 'Training']\n",
    "validation = df.loc[df['Usage'] == 'PublicTest']\n",
    "test = df.loc[df['Usage'] == 'PrivateTest']"
   ]
  },
  {
   "cell_type": "code",
   "execution_count": 6,
   "metadata": {},
   "outputs": [],
   "source": [
    "y_train = pd.get_dummies(train['emotion'])\n",
    "y_train.columns = ['Angry','Disgust','Fear','Happy','Sad','Surprise','Neutral']"
   ]
  },
  {
   "cell_type": "code",
   "execution_count": 7,
   "metadata": {},
   "outputs": [],
   "source": [
    "y_validation = pd.get_dummies(validation['emotion'])\n",
    "y_validation.columns = ['Angry','Disgust','Fear','Happy','Sad','Surprise','Neutral']"
   ]
  },
  {
   "cell_type": "code",
   "execution_count": 8,
   "metadata": {},
   "outputs": [],
   "source": [
    "y_test = pd.get_dummies(test['emotion'])\n",
    "y_test.columns = ['Angry','Disgust','Fear','Happy','Sad','Surprise','Neutral']"
   ]
  },
  {
   "cell_type": "code",
   "execution_count": 9,
   "metadata": {},
   "outputs": [
    {
     "data": {
      "text/html": [
       "<div>\n",
       "<style scoped>\n",
       "    .dataframe tbody tr th:only-of-type {\n",
       "        vertical-align: middle;\n",
       "    }\n",
       "\n",
       "    .dataframe tbody tr th {\n",
       "        vertical-align: top;\n",
       "    }\n",
       "\n",
       "    .dataframe thead th {\n",
       "        text-align: right;\n",
       "    }\n",
       "</style>\n",
       "<table border=\"1\" class=\"dataframe\">\n",
       "  <thead>\n",
       "    <tr style=\"text-align: right;\">\n",
       "      <th></th>\n",
       "      <th>Angry</th>\n",
       "      <th>Disgust</th>\n",
       "      <th>Fear</th>\n",
       "      <th>Happy</th>\n",
       "      <th>Sad</th>\n",
       "      <th>Surprise</th>\n",
       "      <th>Neutral</th>\n",
       "    </tr>\n",
       "  </thead>\n",
       "  <tbody>\n",
       "    <tr>\n",
       "      <th>0</th>\n",
       "      <td>1</td>\n",
       "      <td>0</td>\n",
       "      <td>0</td>\n",
       "      <td>0</td>\n",
       "      <td>0</td>\n",
       "      <td>0</td>\n",
       "      <td>0</td>\n",
       "    </tr>\n",
       "    <tr>\n",
       "      <th>1</th>\n",
       "      <td>1</td>\n",
       "      <td>0</td>\n",
       "      <td>0</td>\n",
       "      <td>0</td>\n",
       "      <td>0</td>\n",
       "      <td>0</td>\n",
       "      <td>0</td>\n",
       "    </tr>\n",
       "    <tr>\n",
       "      <th>2</th>\n",
       "      <td>0</td>\n",
       "      <td>0</td>\n",
       "      <td>1</td>\n",
       "      <td>0</td>\n",
       "      <td>0</td>\n",
       "      <td>0</td>\n",
       "      <td>0</td>\n",
       "    </tr>\n",
       "    <tr>\n",
       "      <th>3</th>\n",
       "      <td>0</td>\n",
       "      <td>0</td>\n",
       "      <td>0</td>\n",
       "      <td>0</td>\n",
       "      <td>1</td>\n",
       "      <td>0</td>\n",
       "      <td>0</td>\n",
       "    </tr>\n",
       "    <tr>\n",
       "      <th>4</th>\n",
       "      <td>0</td>\n",
       "      <td>0</td>\n",
       "      <td>0</td>\n",
       "      <td>0</td>\n",
       "      <td>0</td>\n",
       "      <td>0</td>\n",
       "      <td>1</td>\n",
       "    </tr>\n",
       "  </tbody>\n",
       "</table>\n",
       "</div>"
      ],
      "text/plain": [
       "   Angry  Disgust  Fear  Happy  Sad  Surprise  Neutral\n",
       "0      1        0     0      0    0         0        0\n",
       "1      1        0     0      0    0         0        0\n",
       "2      0        0     1      0    0         0        0\n",
       "3      0        0     0      0    1         0        0\n",
       "4      0        0     0      0    0         0        1"
      ]
     },
     "execution_count": 9,
     "metadata": {},
     "output_type": "execute_result"
    }
   ],
   "source": [
    "y_train.head()"
   ]
  },
  {
   "cell_type": "code",
   "execution_count": 10,
   "metadata": {},
   "outputs": [],
   "source": [
    "x_train = np.vstack(train['pixels'].values)\n",
    "x_validation = np.vstack(validation['pixels'].values)\n",
    "x_test = np.vstack(test['pixels'].values)"
   ]
  },
  {
   "cell_type": "code",
   "execution_count": 11,
   "metadata": {},
   "outputs": [],
   "source": [
    "x_train = np.reshape(x_train,(-1, 48, 48, 1))\n",
    "x_validation = np.reshape(x_validation,(-1, 48, 48, 1))\n",
    "x_test = np.reshape(x_test,(-1, 48, 48, 1))"
   ]
  },
  {
   "cell_type": "code",
   "execution_count": 12,
   "metadata": {},
   "outputs": [
    {
     "data": {
      "text/plain": [
       "<matplotlib.image.AxesImage at 0x7f5f3f26f400>"
      ]
     },
     "execution_count": 12,
     "metadata": {},
     "output_type": "execute_result"
    },
    {
     "data": {
      "image/png": "[encoded data removed]",
      "text/plain": [
       "<Figure size 432x288 with 1 Axes>"
      ]
     },
     "metadata": {},
     "output_type": "display_data"
    }
   ],
   "source": [
    "plt.imshow(x_train.squeeze()[0])"
   ]
  },
  {
   "cell_type": "code",
   "execution_count": 13,
   "metadata": {},
   "outputs": [],
   "source": [
    "with tf.device('/cpu:0'):\n",
    "    tf_x_train = tf.placeholder(tf.float32)\n",
    "    tf_x_validation = tf.placeholder(tf.float32)\n",
    "    tf_x_test = tf.placeholder(tf.float32)\n",
    "    \n",
    "    tf_x_train_norm = tf.image.per_image_standardization(tf_x_train)\n",
    "    tf_x_validation_norm = tf.image.per_image_standardization(tf_x_validation)\n",
    "    tf_x_test_norm = tf.image.per_image_standardization(tf_x_test)"
   ]
  },
  {
   "cell_type": "code",
   "execution_count": 14,
   "metadata": {},
   "outputs": [],
   "source": [
    "with tf.Session(config=tf.ConfigProto(log_device_placement=True)) as sess:\n",
    "    x_train_norm,x_validation_norm,x_test_norm = sess.run([tf_x_train_norm,tf_x_validation_norm,tf_x_test_norm], feed_dict={tf_x_train: x_train,\n",
    "                                                   tf_x_validation: x_validation,\n",
    "                                                   tf_x_test: x_test\n",
    "                                                  })"
   ]
  },
  {
   "cell_type": "code",
   "execution_count": 15,
   "metadata": {},
   "outputs": [
    {
     "data": {
      "text/plain": [
       "<matplotlib.image.AxesImage at 0x7f5f3f3406d8>"
      ]
     },
     "execution_count": 15,
     "metadata": {},
     "output_type": "execute_result"
    },
    {
     "data": {
      "image/png": "[encoded data removed]",
      "text/plain": [
       "<Figure size 432x288 with 1 Axes>"
      ]
     },
     "metadata": {},
     "output_type": "display_data"
    }
   ],
   "source": [
    "plt.imshow(x_train_norm.squeeze()[0])"
   ]
  },
  {
   "cell_type": "code",
   "execution_count": 16,
   "metadata": {},
   "outputs": [
    {
     "data": {
      "text/plain": [
       "1.2543709"
      ]
     },
     "execution_count": 16,
     "metadata": {},
     "output_type": "execute_result"
    }
   ],
   "source": [
    "x_train_norm[0].max()"
   ]
  },
  {
   "cell_type": "code",
   "execution_count": 17,
   "metadata": {},
   "outputs": [
    {
     "data": {
      "text/plain": [
       "-1.838045"
      ]
     },
     "execution_count": 17,
     "metadata": {},
     "output_type": "execute_result"
    }
   ],
   "source": [
    "x_train_norm[0].min()"
   ]
  },
  {
   "cell_type": "code",
   "execution_count": 18,
   "metadata": {},
   "outputs": [],
   "source": [
    "training_iters = 200 \n",
    "learning_rate = 0.01\n",
    "batch_size = 512"
   ]
  },
  {
   "cell_type": "code",
   "execution_count": 19,
   "metadata": {},
   "outputs": [],
   "source": [
    "n_classes = 7"
   ]
  },
  {
   "cell_type": "code",
   "execution_count": 20,
   "metadata": {},
   "outputs": [],
   "source": [
    "x = tf.placeholder(\"float\", [None, 48,48,1])\n",
    "y = tf.placeholder(\"float\", [None, n_classes])\n",
    "keep_prob = tf.placeholder(tf.float32)\n",
    "\n",
    "def conv2d(x, W, b, strides=1):\n",
    "    x = tf.nn.conv2d(x, W, strides=[1, strides, strides, 1], padding='SAME')\n",
    "    x = tf.nn.bias_add(x, b)\n",
    "    return tf.nn.relu(x)\n",
    "\n",
    "def maxpool2d(x, k=2):\n",
    "    return tf.nn.max_pool(x, ksize=[1, k, k, 1], strides=[1, k, k, 1],padding='SAME')"
   ]
  },
  {
   "cell_type": "code",
   "execution_count": 21,
   "metadata": {},
   "outputs": [],
   "source": [
    "weights = {\n",
    "    'wc1': tf.get_variable('W0', shape=(3,3,1,32), initializer=tf.contrib.layers.xavier_initializer()), \n",
    "    'wc2': tf.get_variable('W1', shape=(3,3,32,64), initializer=tf.contrib.layers.xavier_initializer()), \n",
    "    'wc3': tf.get_variable('W2', shape=(3,3,64,128), initializer=tf.contrib.layers.xavier_initializer()), \n",
    "    'wd1': tf.get_variable('W3', shape=(6*6*128,128), initializer=tf.contrib.layers.xavier_initializer()), \n",
    "    'out': tf.get_variable('W6', shape=(128,n_classes), initializer=tf.contrib.layers.xavier_initializer()), \n",
    "}\n",
    "biases = {\n",
    "    'bc1': tf.get_variable('B0', shape=(32), initializer=tf.contrib.layers.xavier_initializer()),\n",
    "    'bc2': tf.get_variable('B1', shape=(64), initializer=tf.contrib.layers.xavier_initializer()),\n",
    "    'bc3': tf.get_variable('B2', shape=(128), initializer=tf.contrib.layers.xavier_initializer()),\n",
    "    'bd1': tf.get_variable('B3', shape=(128), initializer=tf.contrib.layers.xavier_initializer()),\n",
    "    'out': tf.get_variable('B4', shape=(n_classes), initializer=tf.contrib.layers.xavier_initializer()),\n",
    "}"
   ]
  },
  {
   "cell_type": "code",
   "execution_count": 22,
   "metadata": {},
   "outputs": [],
   "source": [
    "def conv_net(x, weights, biases):  \n",
    "\n",
    "    # here we call the conv2d function we had defined above and pass the input image x, weights wc1 and bias bc1.\n",
    "    conv1 = conv2d(x, weights['wc1'], biases['bc1'])\n",
    "    # Max Pooling (down-sampling), this chooses the max value from a 2*2 matrix window and outputs a 14*14 matrix.\n",
    "    conv1 = maxpool2d(conv1, k=2)\n",
    "\n",
    "    # Convolution Layer\n",
    "    # here we call the conv2d function we had defined above and pass the input image x, weights wc2 and bias bc2.\n",
    "    conv2 = conv2d(conv1, weights['wc2'], biases['bc2'])\n",
    "    # Max Pooling (down-sampling), this chooses the max value from a 2*2 matrix window and outputs a 7*7 matrix.\n",
    "    conv2 = maxpool2d(conv2, k=2)\n",
    "\n",
    "    conv3 = conv2d(conv2, weights['wc3'], biases['bc3'])\n",
    "    # Max Pooling (down-sampling), this chooses the max value from a 2*2 matrix window and outputs a 4*4.\n",
    "    conv3 = maxpool2d(conv3, k=2)\n",
    "\n",
    "\n",
    "    # Fully connected layer\n",
    "    # Reshape conv2 output to fit fully connected layer input\n",
    "    fc1 = tf.reshape(conv3, [-1, weights['wd1'].get_shape().as_list()[0]])\n",
    "    fc1 = tf.add(tf.matmul(fc1, weights['wd1']), biases['bd1'])\n",
    "    drop_out = tf.nn.dropout(fc1, keep_prob)  # DROP-OUT\n",
    "    fc1 = tf.nn.relu(drop_out)\n",
    "    # Output, class prediction\n",
    "    # finally we multiply the fully connected layer with the weights and add a bias term. \n",
    "    out = tf.add(tf.matmul(fc1, weights['out']), biases['out'])\n",
    "    return out"
   ]
  },
  {
   "cell_type": "code",
   "execution_count": 23,
   "metadata": {},
   "outputs": [],
   "source": [
    "pred = conv_net(x, weights, biases)\n",
    "\n",
    "cost = tf.reduce_mean(tf.nn.softmax_cross_entropy_with_logits_v2(logits=pred, labels=y))\n",
    "\n",
    "optimizer = tf.train.AdamOptimizer(learning_rate=learning_rate).minimize(cost)"
   ]
  },
  {
   "cell_type": "code",
   "execution_count": 24,
   "metadata": {},
   "outputs": [],
   "source": [
    "#Here you check whether the index of the maximum value of the predicted image is equal to the actual labelled image. and both will be a column vector.\n",
    "correct_prediction = tf.equal(tf.argmax(pred, 1), tf.argmax(y, 1))\n",
    "\n",
    "#calculate accuracy across all the given images and average them out. \n",
    "accuracy = tf.reduce_mean(tf.cast(correct_prediction, tf.float32))"
   ]
  },
  {
   "cell_type": "code",
   "execution_count": 25,
   "metadata": {},
   "outputs": [],
   "source": [
    "# Initializing the variables\n",
    "init = tf.global_variables_initializer()"
   ]
  },
  {
   "cell_type": "code",
   "execution_count": 26,
   "metadata": {
    "scrolled": false
   },
   "outputs": [
    {
     "name": "stdout",
     "output_type": "stream",
     "text": [
      "Iter 0, Loss= 1.826584, Training Accuracy= 0.21484\n",
      "Validation Accuracy: 0.24909\n",
      "Iter 1, Loss= 1.805211, Training Accuracy= 0.22852\n",
      "Validation Accuracy: 0.32460\n",
      "Iter 2, Loss= 1.747358, Training Accuracy= 0.29688\n",
      "Validation Accuracy: 0.33853\n",
      "Iter 3, Loss= 1.712831, Training Accuracy= 0.32812\n",
      "Validation Accuracy: 0.35414\n",
      "Iter 4, Loss= 1.706079, Training Accuracy= 0.32617\n",
      "Validation Accuracy: 0.37030\n",
      "Iter 5, Loss= 1.659495, Training Accuracy= 0.35742\n",
      "Validation Accuracy: 0.38089\n",
      "Iter 6, Loss= 1.656624, Training Accuracy= 0.33594\n",
      "Validation Accuracy: 0.38479\n",
      "Iter 7, Loss= 1.679431, Training Accuracy= 0.36328\n",
      "Validation Accuracy: 0.39147\n",
      "Iter 8, Loss= 1.639543, Training Accuracy= 0.36133\n",
      "Validation Accuracy: 0.39537\n",
      "Iter 9, Loss= 1.616918, Training Accuracy= 0.36914\n",
      "Validation Accuracy: 0.40234\n",
      "Iter 10, Loss= 1.638970, Training Accuracy= 0.36133\n",
      "Validation Accuracy: 0.40596\n",
      "Iter 11, Loss= 1.592363, Training Accuracy= 0.38281\n",
      "Validation Accuracy: 0.40903\n",
      "Iter 12, Loss= 1.563010, Training Accuracy= 0.40234\n",
      "Validation Accuracy: 0.41098\n",
      "Iter 13, Loss= 1.565086, Training Accuracy= 0.36914\n",
      "Validation Accuracy: 0.41098\n",
      "Iter 14, Loss= 1.542472, Training Accuracy= 0.38672\n",
      "Validation Accuracy: 0.41794\n",
      "Iter 15, Loss= 1.559332, Training Accuracy= 0.37891\n",
      "Validation Accuracy: 0.41822\n",
      "Iter 16, Loss= 1.552039, Training Accuracy= 0.38281\n",
      "Validation Accuracy: 0.41878\n",
      "Iter 17, Loss= 1.562359, Training Accuracy= 0.38086\n",
      "Validation Accuracy: 0.41683\n",
      "Iter 18, Loss= 1.538127, Training Accuracy= 0.39062\n",
      "Validation Accuracy: 0.40958\n",
      "Iter 19, Loss= 1.556388, Training Accuracy= 0.39062\n",
      "Validation Accuracy: 0.42045\n",
      "Iter 20, Loss= 1.536200, Training Accuracy= 0.36719\n",
      "Validation Accuracy: 0.42157\n",
      "Iter 21, Loss= 1.540472, Training Accuracy= 0.40625\n",
      "Validation Accuracy: 0.42101\n",
      "Iter 22, Loss= 1.547207, Training Accuracy= 0.40430\n",
      "Validation Accuracy: 0.42324\n",
      "Iter 23, Loss= 1.525687, Training Accuracy= 0.38086\n",
      "Validation Accuracy: 0.43466\n",
      "Iter 24, Loss= 1.508547, Training Accuracy= 0.40430\n",
      "Validation Accuracy: 0.42268\n",
      "Iter 25, Loss= 1.519725, Training Accuracy= 0.37500\n",
      "Validation Accuracy: 0.43410\n",
      "Iter 26, Loss= 1.506751, Training Accuracy= 0.39258\n",
      "Validation Accuracy: 0.42017\n",
      "Iter 27, Loss= 1.515169, Training Accuracy= 0.40820\n",
      "Validation Accuracy: 0.41794\n",
      "Iter 28, Loss= 1.526219, Training Accuracy= 0.39062\n",
      "Validation Accuracy: 0.42825\n",
      "Iter 29, Loss= 1.516319, Training Accuracy= 0.36133\n",
      "Validation Accuracy: 0.42547\n",
      "Iter 30, Loss= 1.494045, Training Accuracy= 0.40820\n",
      "Validation Accuracy: 0.42407\n",
      "Iter 31, Loss= 1.479939, Training Accuracy= 0.41016\n",
      "Validation Accuracy: 0.43188\n",
      "Iter 32, Loss= 1.514359, Training Accuracy= 0.39062\n",
      "Validation Accuracy: 0.43299\n",
      "Iter 33, Loss= 1.508618, Training Accuracy= 0.36719\n",
      "Validation Accuracy: 0.42602\n",
      "Iter 34, Loss= 1.497482, Training Accuracy= 0.38477\n",
      "Validation Accuracy: 0.42992\n",
      "Iter 35, Loss= 1.504309, Training Accuracy= 0.40234\n",
      "Validation Accuracy: 0.42575\n",
      "Iter 36, Loss= 1.495747, Training Accuracy= 0.39844\n",
      "Validation Accuracy: 0.43605\n",
      "Iter 37, Loss= 1.503526, Training Accuracy= 0.35742\n",
      "Validation Accuracy: 0.43188\n",
      "Iter 38, Loss= 1.504369, Training Accuracy= 0.40430\n",
      "Validation Accuracy: 0.43773\n",
      "Iter 39, Loss= 1.489845, Training Accuracy= 0.42383\n",
      "Validation Accuracy: 0.43633\n",
      "Iter 40, Loss= 1.496601, Training Accuracy= 0.38477\n",
      "Validation Accuracy: 0.42881\n",
      "Iter 41, Loss= 1.468572, Training Accuracy= 0.41016\n",
      "Validation Accuracy: 0.43856\n",
      "Iter 42, Loss= 1.486545, Training Accuracy= 0.39453\n",
      "Validation Accuracy: 0.43243\n",
      "Iter 43, Loss= 1.480940, Training Accuracy= 0.39648\n",
      "Validation Accuracy: 0.43522\n",
      "Iter 44, Loss= 1.478986, Training Accuracy= 0.36523\n",
      "Validation Accuracy: 0.43828\n",
      "Iter 45, Loss= 1.474715, Training Accuracy= 0.40234\n",
      "Validation Accuracy: 0.42797\n",
      "Iter 46, Loss= 1.485752, Training Accuracy= 0.39844\n",
      "Validation Accuracy: 0.43940\n",
      "Iter 47, Loss= 1.494317, Training Accuracy= 0.40820\n",
      "Validation Accuracy: 0.42881\n",
      "Iter 48, Loss= 1.467500, Training Accuracy= 0.40430\n",
      "Validation Accuracy: 0.43578\n",
      "Iter 49, Loss= 1.470729, Training Accuracy= 0.38867\n",
      "Validation Accuracy: 0.44330\n",
      "Iter 50, Loss= 1.490515, Training Accuracy= 0.41797\n",
      "Validation Accuracy: 0.43578\n",
      "Iter 51, Loss= 1.441007, Training Accuracy= 0.39844\n",
      "Validation Accuracy: 0.44358\n",
      "Iter 52, Loss= 1.465587, Training Accuracy= 0.41797\n",
      "Validation Accuracy: 0.43884\n",
      "Iter 53, Loss= 1.498069, Training Accuracy= 0.40820\n",
      "Validation Accuracy: 0.43494\n",
      "Iter 54, Loss= 1.476483, Training Accuracy= 0.41992\n",
      "Validation Accuracy: 0.44274\n",
      "Iter 55, Loss= 1.439130, Training Accuracy= 0.42188\n",
      "Validation Accuracy: 0.43912\n",
      "Iter 56, Loss= 1.435836, Training Accuracy= 0.40234\n",
      "Validation Accuracy: 0.43856\n",
      "Iter 57, Loss= 1.465982, Training Accuracy= 0.43750\n",
      "Validation Accuracy: 0.44386\n",
      "Iter 58, Loss= 1.439559, Training Accuracy= 0.41797\n",
      "Validation Accuracy: 0.44664\n",
      "Iter 59, Loss= 1.454163, Training Accuracy= 0.41016\n",
      "Validation Accuracy: 0.43745\n",
      "Iter 60, Loss= 1.450444, Training Accuracy= 0.43164\n",
      "Validation Accuracy: 0.44051\n",
      "Iter 61, Loss= 1.439852, Training Accuracy= 0.41016\n",
      "Validation Accuracy: 0.44999\n",
      "Iter 62, Loss= 1.410826, Training Accuracy= 0.42383\n",
      "Validation Accuracy: 0.44692\n",
      "Iter 63, Loss= 1.412285, Training Accuracy= 0.44531\n",
      "Validation Accuracy: 0.44135\n",
      "Iter 64, Loss= 1.485803, Training Accuracy= 0.40039\n",
      "Validation Accuracy: 0.43020\n",
      "Iter 65, Loss= 1.445285, Training Accuracy= 0.42578\n",
      "Validation Accuracy: 0.44358\n",
      "Iter 66, Loss= 1.431165, Training Accuracy= 0.43945\n",
      "Validation Accuracy: 0.44581\n",
      "Iter 67, Loss= 1.467002, Training Accuracy= 0.39648\n",
      "Validation Accuracy: 0.45138\n",
      "Iter 68, Loss= 1.445311, Training Accuracy= 0.41797\n",
      "Validation Accuracy: 0.44107\n",
      "Iter 69, Loss= 1.472571, Training Accuracy= 0.41406\n",
      "Validation Accuracy: 0.43661\n",
      "Iter 70, Loss= 1.458269, Training Accuracy= 0.41797\n",
      "Validation Accuracy: 0.44469\n",
      "Iter 71, Loss= 1.383340, Training Accuracy= 0.44141\n",
      "Validation Accuracy: 0.44581\n",
      "Iter 72, Loss= 1.445342, Training Accuracy= 0.41211\n",
      "Validation Accuracy: 0.44915\n",
      "Iter 73, Loss= 1.399394, Training Accuracy= 0.43945\n",
      "Validation Accuracy: 0.44469\n",
      "Iter 74, Loss= 1.436825, Training Accuracy= 0.40625\n",
      "Validation Accuracy: 0.45054\n",
      "Iter 75, Loss= 1.447493, Training Accuracy= 0.41992\n",
      "Validation Accuracy: 0.44023\n",
      "Iter 76, Loss= 1.421329, Training Accuracy= 0.44727\n",
      "Validation Accuracy: 0.44748\n",
      "Iter 77, Loss= 1.447706, Training Accuracy= 0.41992\n",
      "Validation Accuracy: 0.44386\n",
      "Iter 78, Loss= 1.441026, Training Accuracy= 0.42578\n",
      "Validation Accuracy: 0.44191\n",
      "Iter 79, Loss= 1.389378, Training Accuracy= 0.43164\n",
      "Validation Accuracy: 0.45361\n",
      "Iter 80, Loss= 1.435802, Training Accuracy= 0.42383\n",
      "Validation Accuracy: 0.44107\n",
      "Iter 81, Loss= 1.384276, Training Accuracy= 0.43555\n",
      "Validation Accuracy: 0.44664\n",
      "Iter 82, Loss= 1.392632, Training Accuracy= 0.43945\n",
      "Validation Accuracy: 0.45472\n",
      "Iter 83, Loss= 1.419275, Training Accuracy= 0.44531\n",
      "Validation Accuracy: 0.44413\n",
      "Iter 84, Loss= 1.414544, Training Accuracy= 0.41602\n",
      "Validation Accuracy: 0.44999\n",
      "Iter 85, Loss= 1.423260, Training Accuracy= 0.44531\n",
      "Validation Accuracy: 0.44023\n",
      "Iter 86, Loss= 1.384261, Training Accuracy= 0.45117\n",
      "Validation Accuracy: 0.44692\n",
      "Iter 87, Loss= 1.373251, Training Accuracy= 0.45117\n",
      "Validation Accuracy: 0.45974\n",
      "Iter 88, Loss= 1.354935, Training Accuracy= 0.44141\n",
      "Validation Accuracy: 0.45472\n",
      "Iter 89, Loss= 1.437727, Training Accuracy= 0.43945\n",
      "Validation Accuracy: 0.45305\n",
      "Iter 90, Loss= 1.366585, Training Accuracy= 0.42773\n",
      "Validation Accuracy: 0.45166\n",
      "Iter 91, Loss= 1.355855, Training Accuracy= 0.46289\n",
      "Validation Accuracy: 0.45222\n",
      "Iter 92, Loss= 1.406884, Training Accuracy= 0.43164\n",
      "Validation Accuracy: 0.44915\n",
      "Iter 93, Loss= 1.387212, Training Accuracy= 0.45117\n",
      "Validation Accuracy: 0.44636\n",
      "Iter 94, Loss= 1.409925, Training Accuracy= 0.45898\n",
      "Validation Accuracy: 0.45361\n",
      "Iter 95, Loss= 1.403950, Training Accuracy= 0.41211\n",
      "Validation Accuracy: 0.44525\n",
      "Iter 96, Loss= 1.399626, Training Accuracy= 0.44531\n",
      "Validation Accuracy: 0.44664\n",
      "Iter 97, Loss= 1.382410, Training Accuracy= 0.43359\n",
      "Validation Accuracy: 0.45277\n",
      "Iter 98, Loss= 1.401870, Training Accuracy= 0.42383\n",
      "Validation Accuracy: 0.44051\n",
      "Iter 99, Loss= 1.341585, Training Accuracy= 0.45508\n",
      "Validation Accuracy: 0.44831\n",
      "Iter 100, Loss= 1.365873, Training Accuracy= 0.47070\n",
      "Validation Accuracy: 0.44999\n",
      "Iter 101, Loss= 1.404716, Training Accuracy= 0.44727\n",
      "Validation Accuracy: 0.43717\n"
     ]
    },
    {
     "name": "stdout",
     "output_type": "stream",
     "text": [
      "Iter 102, Loss= 1.383476, Training Accuracy= 0.45312\n",
      "Validation Accuracy: 0.45723\n",
      "Iter 103, Loss= 1.348577, Training Accuracy= 0.46094\n",
      "Validation Accuracy: 0.45138\n",
      "Iter 104, Loss= 1.379518, Training Accuracy= 0.45508\n",
      "Validation Accuracy: 0.44915\n",
      "Iter 105, Loss= 1.381584, Training Accuracy= 0.45898\n",
      "Validation Accuracy: 0.43801\n",
      "Iter 106, Loss= 1.386754, Training Accuracy= 0.43359\n",
      "Validation Accuracy: 0.44191\n",
      "Iter 107, Loss= 1.367650, Training Accuracy= 0.44531\n",
      "Validation Accuracy: 0.44246\n",
      "Iter 108, Loss= 1.372880, Training Accuracy= 0.44336\n",
      "Validation Accuracy: 0.44413\n",
      "Iter 109, Loss= 1.343125, Training Accuracy= 0.46094\n",
      "Validation Accuracy: 0.45556\n",
      "Iter 110, Loss= 1.413282, Training Accuracy= 0.42969\n",
      "Validation Accuracy: 0.44887\n",
      "Iter 111, Loss= 1.353521, Training Accuracy= 0.44727\n",
      "Validation Accuracy: 0.44441\n",
      "Iter 112, Loss= 1.365983, Training Accuracy= 0.46094\n",
      "Validation Accuracy: 0.44107\n",
      "Iter 113, Loss= 1.369354, Training Accuracy= 0.45312\n",
      "Validation Accuracy: 0.45862\n",
      "Iter 114, Loss= 1.347212, Training Accuracy= 0.44531\n",
      "Validation Accuracy: 0.45612\n",
      "Iter 115, Loss= 1.400537, Training Accuracy= 0.44922\n",
      "Validation Accuracy: 0.45305\n",
      "Iter 116, Loss= 1.349754, Training Accuracy= 0.45312\n",
      "Validation Accuracy: 0.45082\n",
      "Iter 117, Loss= 1.379301, Training Accuracy= 0.45117\n",
      "Validation Accuracy: 0.44469\n",
      "Iter 118, Loss= 1.380244, Training Accuracy= 0.42578\n",
      "Validation Accuracy: 0.45695\n",
      "Iter 119, Loss= 1.333602, Training Accuracy= 0.46289\n",
      "Validation Accuracy: 0.45556\n",
      "Iter 120, Loss= 1.410975, Training Accuracy= 0.43359\n",
      "Validation Accuracy: 0.44413\n",
      "Iter 121, Loss= 1.395936, Training Accuracy= 0.43555\n",
      "Validation Accuracy: 0.45138\n",
      "Iter 122, Loss= 1.395214, Training Accuracy= 0.41992\n",
      "Validation Accuracy: 0.45222\n",
      "Iter 123, Loss= 1.375574, Training Accuracy= 0.46094\n",
      "Validation Accuracy: 0.45305\n",
      "Iter 124, Loss= 1.348465, Training Accuracy= 0.43945\n",
      "Validation Accuracy: 0.45361\n",
      "Iter 125, Loss= 1.347203, Training Accuracy= 0.47070\n",
      "Validation Accuracy: 0.44525\n",
      "Iter 126, Loss= 1.356705, Training Accuracy= 0.43945\n",
      "Validation Accuracy: 0.45333\n",
      "Iter 127, Loss= 1.358486, Training Accuracy= 0.44727\n",
      "Validation Accuracy: 0.45639\n",
      "Iter 128, Loss= 1.362664, Training Accuracy= 0.47266\n",
      "Validation Accuracy: 0.45138\n",
      "Iter 129, Loss= 1.359204, Training Accuracy= 0.47266\n",
      "Validation Accuracy: 0.45138\n",
      "Iter 130, Loss= 1.395465, Training Accuracy= 0.47266\n",
      "Validation Accuracy: 0.44776\n",
      "Iter 131, Loss= 1.406361, Training Accuracy= 0.45117\n",
      "Validation Accuracy: 0.45277\n",
      "Iter 132, Loss= 1.351507, Training Accuracy= 0.46484\n",
      "Validation Accuracy: 0.44720\n",
      "Iter 133, Loss= 1.422687, Training Accuracy= 0.42969\n",
      "Validation Accuracy: 0.44887\n",
      "Iter 134, Loss= 1.316096, Training Accuracy= 0.46484\n",
      "Validation Accuracy: 0.45974\n",
      "Iter 135, Loss= 1.368865, Training Accuracy= 0.43359\n",
      "Validation Accuracy: 0.44971\n",
      "Iter 136, Loss= 1.370958, Training Accuracy= 0.45117\n",
      "Validation Accuracy: 0.44831\n",
      "Iter 137, Loss= 1.325204, Training Accuracy= 0.47266\n",
      "Validation Accuracy: 0.45249\n",
      "Iter 138, Loss= 1.368374, Training Accuracy= 0.45703\n",
      "Validation Accuracy: 0.44943\n",
      "Iter 139, Loss= 1.355586, Training Accuracy= 0.42578\n",
      "Validation Accuracy: 0.45026\n",
      "Iter 140, Loss= 1.319945, Training Accuracy= 0.43750\n",
      "Validation Accuracy: 0.45138\n",
      "Iter 141, Loss= 1.354259, Training Accuracy= 0.46680\n",
      "Validation Accuracy: 0.45472\n",
      "Iter 142, Loss= 1.316791, Training Accuracy= 0.47461\n",
      "Validation Accuracy: 0.45333\n",
      "Iter 143, Loss= 1.333485, Training Accuracy= 0.47656\n",
      "Validation Accuracy: 0.44943\n",
      "Iter 144, Loss= 1.349152, Training Accuracy= 0.44141\n",
      "Validation Accuracy: 0.45361\n",
      "Iter 145, Loss= 1.270329, Training Accuracy= 0.48047\n",
      "Validation Accuracy: 0.44776\n",
      "Iter 146, Loss= 1.301753, Training Accuracy= 0.48047\n",
      "Validation Accuracy: 0.44999\n",
      "Iter 147, Loss= 1.316899, Training Accuracy= 0.46484\n",
      "Validation Accuracy: 0.44831\n",
      "Iter 148, Loss= 1.315392, Training Accuracy= 0.48242\n",
      "Validation Accuracy: 0.44079\n",
      "Iter 149, Loss= 1.332191, Training Accuracy= 0.45703\n",
      "Validation Accuracy: 0.44497\n",
      "Iter 150, Loss= 1.288194, Training Accuracy= 0.48633\n",
      "Validation Accuracy: 0.43633\n",
      "Iter 151, Loss= 1.305641, Training Accuracy= 0.46875\n",
      "Validation Accuracy: 0.44581\n",
      "Iter 152, Loss= 1.296971, Training Accuracy= 0.49219\n",
      "Validation Accuracy: 0.45026\n",
      "Iter 153, Loss= 1.287542, Training Accuracy= 0.43555\n",
      "Validation Accuracy: 0.44720\n",
      "Iter 154, Loss= 1.305902, Training Accuracy= 0.49219\n",
      "Validation Accuracy: 0.43856\n",
      "Iter 155, Loss= 1.296424, Training Accuracy= 0.46484\n",
      "Validation Accuracy: 0.44720\n",
      "Iter 156, Loss= 1.328180, Training Accuracy= 0.46680\n",
      "Validation Accuracy: 0.44163\n",
      "Iter 157, Loss= 1.335871, Training Accuracy= 0.46094\n",
      "Validation Accuracy: 0.44330\n",
      "Iter 158, Loss= 1.322394, Training Accuracy= 0.46289\n",
      "Validation Accuracy: 0.43689\n",
      "Iter 159, Loss= 1.287641, Training Accuracy= 0.49609\n",
      "Validation Accuracy: 0.44246\n",
      "Iter 160, Loss= 1.291207, Training Accuracy= 0.47070\n",
      "Validation Accuracy: 0.44553\n",
      "Iter 161, Loss= 1.341143, Training Accuracy= 0.44727\n",
      "Validation Accuracy: 0.44274\n",
      "Iter 162, Loss= 1.322964, Training Accuracy= 0.46289\n",
      "Validation Accuracy: 0.45584\n",
      "Iter 163, Loss= 1.328446, Training Accuracy= 0.44727\n",
      "Validation Accuracy: 0.43633\n",
      "Iter 164, Loss= 1.334128, Training Accuracy= 0.43945\n",
      "Validation Accuracy: 0.44218\n",
      "Iter 165, Loss= 1.333381, Training Accuracy= 0.45508\n",
      "Validation Accuracy: 0.44720\n",
      "Iter 166, Loss= 1.316765, Training Accuracy= 0.44531\n",
      "Validation Accuracy: 0.43940\n",
      "Iter 167, Loss= 1.269410, Training Accuracy= 0.49219\n",
      "Validation Accuracy: 0.45500\n",
      "Iter 168, Loss= 1.269485, Training Accuracy= 0.45312\n",
      "Validation Accuracy: 0.45138\n",
      "Iter 169, Loss= 1.325524, Training Accuracy= 0.45312\n",
      "Validation Accuracy: 0.44636\n",
      "Iter 170, Loss= 1.326215, Training Accuracy= 0.45703\n",
      "Validation Accuracy: 0.45389\n",
      "Iter 171, Loss= 1.280120, Training Accuracy= 0.46484\n",
      "Validation Accuracy: 0.45389\n",
      "Iter 172, Loss= 1.306231, Training Accuracy= 0.48828\n",
      "Validation Accuracy: 0.44274\n",
      "Iter 173, Loss= 1.256066, Training Accuracy= 0.46680\n",
      "Validation Accuracy: 0.45082\n",
      "Iter 174, Loss= 1.285597, Training Accuracy= 0.49609\n",
      "Validation Accuracy: 0.44887\n",
      "Iter 175, Loss= 1.285106, Training Accuracy= 0.47070\n",
      "Validation Accuracy: 0.44887\n",
      "Iter 176, Loss= 1.280465, Training Accuracy= 0.46484\n",
      "Validation Accuracy: 0.44859\n",
      "Iter 177, Loss= 1.270672, Training Accuracy= 0.47461\n",
      "Validation Accuracy: 0.43801\n",
      "Iter 178, Loss= 1.329064, Training Accuracy= 0.44922\n",
      "Validation Accuracy: 0.44246\n",
      "Iter 179, Loss= 1.380428, Training Accuracy= 0.44336\n",
      "Validation Accuracy: 0.44135\n",
      "Iter 180, Loss= 1.337792, Training Accuracy= 0.45117\n",
      "Validation Accuracy: 0.43828\n",
      "Iter 181, Loss= 1.256794, Training Accuracy= 0.50977\n",
      "Validation Accuracy: 0.44386\n",
      "Iter 182, Loss= 1.284263, Training Accuracy= 0.46875\n",
      "Validation Accuracy: 0.44859\n",
      "Iter 183, Loss= 1.235353, Training Accuracy= 0.49609\n",
      "Validation Accuracy: 0.44748\n",
      "Iter 184, Loss= 1.265973, Training Accuracy= 0.49023\n",
      "Validation Accuracy: 0.44413\n",
      "Iter 185, Loss= 1.304729, Training Accuracy= 0.46289\n",
      "Validation Accuracy: 0.44748\n",
      "Iter 186, Loss= 1.300952, Training Accuracy= 0.45898\n",
      "Validation Accuracy: 0.44943\n",
      "Iter 187, Loss= 1.258839, Training Accuracy= 0.49414\n",
      "Validation Accuracy: 0.45612\n",
      "Iter 188, Loss= 1.263578, Training Accuracy= 0.48828\n",
      "Validation Accuracy: 0.45082\n",
      "Iter 189, Loss= 1.325953, Training Accuracy= 0.44727\n",
      "Validation Accuracy: 0.45222\n",
      "Iter 190, Loss= 1.274042, Training Accuracy= 0.47852\n",
      "Validation Accuracy: 0.45779\n",
      "Iter 191, Loss= 1.333459, Training Accuracy= 0.46484\n",
      "Validation Accuracy: 0.44748\n",
      "Iter 192, Loss= 1.321434, Training Accuracy= 0.44727\n",
      "Validation Accuracy: 0.45361\n",
      "Iter 193, Loss= 1.283030, Training Accuracy= 0.44336\n",
      "Validation Accuracy: 0.44581\n",
      "Iter 194, Loss= 1.279542, Training Accuracy= 0.48242\n",
      "Validation Accuracy: 0.44887\n",
      "Iter 195, Loss= 1.353926, Training Accuracy= 0.44727\n",
      "Validation Accuracy: 0.45110\n",
      "Iter 196, Loss= 1.258004, Training Accuracy= 0.49414\n",
      "Validation Accuracy: 0.44191\n",
      "Iter 197, Loss= 1.296543, Training Accuracy= 0.47656\n",
      "Validation Accuracy: 0.44581\n",
      "Iter 198, Loss= 1.310205, Training Accuracy= 0.44531\n",
      "Validation Accuracy: 0.45584\n",
      "Iter 199, Loss= 1.329000, Training Accuracy= 0.45117\n",
      "Validation Accuracy: 0.45026\n"
     ]
    }
   ],
   "source": [
    "with tf.Session() as sess:\n",
    "    sess.run(init) \n",
    "    train_loss = []\n",
    "    test_loss = []\n",
    "    train_accuracy = []\n",
    "    test_accuracy = []\n",
    "    summary_writer = tf.summary.FileWriter('./Output', sess.graph)\n",
    "    \n",
    "    for i in range(training_iters):\n",
    "        for batch in range(len(x_train_norm)//batch_size):\n",
    "            batch_x = x_train_norm[batch*batch_size:min((batch+1)*batch_size,len(x_train_norm))]\n",
    "            batch_y = y_train[batch*batch_size:min((batch+1)*batch_size,len(y_train))]    \n",
    "            \n",
    "            opt = sess.run(optimizer, feed_dict={x: batch_x, y: batch_y, keep_prob: 0.5})\n",
    "            loss, acc = sess.run([cost, accuracy], feed_dict={x: batch_x, y: batch_y, keep_prob : 0.5})\n",
    "            \n",
    "        print(\"Iter \" + str(i) + \", Loss= \" + \\\n",
    "                      \"{:.6f}\".format(loss) + \", Training Accuracy= \" + \\\n",
    "                      \"{:.5f}\".format(acc))\n",
    "\n",
    "        test_acc,valid_loss = sess.run([accuracy,cost], feed_dict={x: x_validation_norm, y : y_validation,  keep_prob : 1})\n",
    "        train_loss.append(loss)\n",
    "        test_loss.append(valid_loss)\n",
    "        train_accuracy.append(acc)\n",
    "        test_accuracy.append(test_acc)\n",
    "        print(\"Validation Accuracy:\",\"{:.5f}\".format(test_acc))\n",
    "    summary_writer.close()"
   ]
  },
  {
   "cell_type": "code",
   "execution_count": 27,
   "metadata": {},
   "outputs": [
    {
     "data": {
      "image/png": "[encoded data removed]",
      "text/plain": [
       "<Figure size 432x288 with 1 Axes>"
      ]
     },
     "metadata": {},
     "output_type": "display_data"
    },
    {
     "data": {
      "text/plain": [
       "<Figure size 432x288 with 0 Axes>"
      ]
     },
     "metadata": {},
     "output_type": "display_data"
    }
   ],
   "source": [
    "plt.plot(range(len(train_loss)), train_loss, 'b', label='Training loss')\n",
    "plt.plot(range(len(train_loss)), test_loss, 'r', label='Test loss')\n",
    "plt.title('Training and Test loss')\n",
    "plt.xlabel('Epochs ',fontsize=16)\n",
    "plt.ylabel('Loss',fontsize=16)\n",
    "plt.legend()\n",
    "plt.figure()\n",
    "plt.show()"
   ]
  },
  {
   "cell_type": "code",
   "execution_count": 28,
   "metadata": {},
   "outputs": [
    {
     "data": {
      "image/png": "[encoded data removed]",
      "text/plain": [
       "<Figure size 432x288 with 1 Axes>"
      ]
     },
     "metadata": {},
     "output_type": "display_data"
    },
    {
     "data": {
      "text/plain": [
       "<Figure size 432x288 with 0 Axes>"
      ]
     },
     "metadata": {},
     "output_type": "display_data"
    }
   ],
   "source": [
    "plt.plot(range(len(train_accuracy)), train_accuracy, 'b', label='Training Accuracy')\n",
    "plt.plot(range(len(test_accuracy)), test_accuracy, 'r', label='Test Accuracy')\n",
    "plt.title('Training and Test Accuracy')\n",
    "plt.xlabel('Epochs ',fontsize=16)\n",
    "plt.ylabel('Accuracy',fontsize=16)\n",
    "plt.legend()\n",
    "plt.figure()\n",
    "plt.show()"
   ]
  },
  {
   "cell_type": "code",
   "execution_count": null,
   "metadata": {},
   "outputs": [],
   "source": []
  }
 ],
 "metadata": {
  "kernelspec": {
   "display_name": "Python 3",
   "language": "python",
   "name": "python3"
  },
  "language_info": {
   "codemirror_mode": {
    "name": "ipython",
    "version": 3
   },
   "file_extension": ".py",
   "mimetype": "text/x-python",
   "name": "python",
   "nbconvert_exporter": "python",
   "pygments_lexer": "ipython3",
   "version": "3.6.4"
  }
 },
 "nbformat": 4,
 "nbformat_minor": 2
}
